{
 "cells": [
  {
   "cell_type": "markdown",
   "metadata": {
    "heading_collapsed": true
   },
   "source": [
    "## Libraries"
   ]
  },
  {
   "cell_type": "code",
   "execution_count": 168,
   "metadata": {
    "ExecuteTime": {
     "end_time": "2020-12-14T18:03:59.780084Z",
     "start_time": "2020-12-14T18:03:59.769871Z"
    },
    "hidden": true
   },
   "outputs": [],
   "source": [
    "import glob\n",
    "import os\n",
    "import sys\n",
    "import shutil\n",
    "import time\n",
    "\n",
    "import pandas as pd\n",
    "import numpy as np\n",
    "import torch\n",
    "from skimage import io, transform\n",
    "from torch.utils.data import Dataset, DataLoader\n",
    "from torchvision import transforms, utils,datasets\n",
    "from sklearn.model_selection import train_test_split\n",
    "\n",
    "import torchvision.models as models\n",
    "import torch.nn as nn\n",
    "import torch.optim as optim\n",
    "\n",
    "import warnings\n",
    "warnings.filterwarnings(\"ignore\")\n",
    "\n",
    "\n",
    "import matplotlib.pyplot as plt\n",
    "from ipywidgets import interact , widgets\n",
    "%matplotlib inline"
   ]
  },
  {
   "cell_type": "code",
   "execution_count": 243,
   "metadata": {
    "ExecuteTime": {
     "end_time": "2020-12-14T19:39:19.686686Z",
     "start_time": "2020-12-14T19:39:19.680828Z"
    },
    "hidden": true
   },
   "outputs": [],
   "source": [
    "## Raw Data Directory Location and Root Directory for Project to run this notebook\n",
    "raw_data_dir = \"../CNN_Models/raw_data/*\"\n",
    "root_dir = \"../CNN_Models/\""
   ]
  },
  {
   "cell_type": "markdown",
   "metadata": {
    "heading_collapsed": true
   },
   "source": [
    "## Creating CSV for image category and location"
   ]
  },
  {
   "cell_type": "code",
   "execution_count": 103,
   "metadata": {
    "ExecuteTime": {
     "end_time": "2020-12-14T17:01:58.634889Z",
     "start_time": "2020-12-14T17:01:58.617721Z"
    },
    "hidden": true
   },
   "outputs": [],
   "source": [
    "file_ls = []\n",
    "for folder in glob.glob(raw_data_dir):\n",
    "    folder_name = folder.split(\"/\")[-1]\n",
    "    for file in glob.glob(f\"{folder}/*\"):\n",
    "        file_ls.append([folder_name,file])\n",
    "file_df = pd.DataFrame(file_ls,columns =['category','location'])\n",
    "file_df.to_csv(f\"{root_dir}filenames.csv\",index=False)"
   ]
  },
  {
   "cell_type": "code",
   "execution_count": 104,
   "metadata": {
    "ExecuteTime": {
     "end_time": "2020-12-14T17:01:59.566061Z",
     "start_time": "2020-12-14T17:01:59.553874Z"
    },
    "hidden": true
   },
   "outputs": [
    {
     "data": {
      "text/html": [
       "<div>\n",
       "<style scoped>\n",
       "    .dataframe tbody tr th:only-of-type {\n",
       "        vertical-align: middle;\n",
       "    }\n",
       "\n",
       "    .dataframe tbody tr th {\n",
       "        vertical-align: top;\n",
       "    }\n",
       "\n",
       "    .dataframe thead th {\n",
       "        text-align: right;\n",
       "    }\n",
       "</style>\n",
       "<table border=\"1\" class=\"dataframe\">\n",
       "  <thead>\n",
       "    <tr style=\"text-align: right;\">\n",
       "      <th></th>\n",
       "      <th>category</th>\n",
       "      <th>location</th>\n",
       "    </tr>\n",
       "  </thead>\n",
       "  <tbody>\n",
       "    <tr>\n",
       "      <th>0</th>\n",
       "      <td>MapT</td>\n",
       "      <td>/home/neha/CNN_Models/raw_data/MapT/chart-1756...</td>\n",
       "    </tr>\n",
       "    <tr>\n",
       "      <th>1</th>\n",
       "      <td>MapT</td>\n",
       "      <td>/home/neha/CNN_Models/raw_data/MapT/austin.jpg</td>\n",
       "    </tr>\n",
       "    <tr>\n",
       "      <th>2</th>\n",
       "      <td>MapT</td>\n",
       "      <td>/home/neha/CNN_Models/raw_data/MapT/1024px-NPS...</td>\n",
       "    </tr>\n",
       "    <tr>\n",
       "      <th>3</th>\n",
       "      <td>MapT</td>\n",
       "      <td>/home/neha/CNN_Models/raw_data/MapT/e341deada1...</td>\n",
       "    </tr>\n",
       "    <tr>\n",
       "      <th>4</th>\n",
       "      <td>MapT</td>\n",
       "      <td>/home/neha/CNN_Models/raw_data/MapT/image-2016...</td>\n",
       "    </tr>\n",
       "  </tbody>\n",
       "</table>\n",
       "</div>"
      ],
      "text/plain": [
       "  category                                           location\n",
       "0     MapT  /home/neha/CNN_Models/raw_data/MapT/chart-1756...\n",
       "1     MapT     /home/neha/CNN_Models/raw_data/MapT/austin.jpg\n",
       "2     MapT  /home/neha/CNN_Models/raw_data/MapT/1024px-NPS...\n",
       "3     MapT  /home/neha/CNN_Models/raw_data/MapT/e341deada1...\n",
       "4     MapT  /home/neha/CNN_Models/raw_data/MapT/image-2016..."
      ]
     },
     "execution_count": 104,
     "metadata": {},
     "output_type": "execute_result"
    }
   ],
   "source": [
    "file_df.head()"
   ]
  },
  {
   "cell_type": "markdown",
   "metadata": {
    "heading_collapsed": true
   },
   "source": [
    "## see images and numbers of data points in one category"
   ]
  },
  {
   "cell_type": "code",
   "execution_count": 107,
   "metadata": {
    "ExecuteTime": {
     "end_time": "2020-12-14T17:02:03.847104Z",
     "start_time": "2020-12-14T17:02:03.647143Z"
    },
    "hidden": true
   },
   "outputs": [
    {
     "data": {
      "application/vnd.jupyter.widget-view+json": {
       "model_id": "6cfd79ac23e244b4afe8c29986d14ecb",
       "version_major": 2,
       "version_minor": 0
      },
      "text/plain": [
       "interactive(children=(Dropdown(description='cat', options=('MapT', 'MapO', 'MapP', 'Super_market_discount_post…"
      ]
     },
     "metadata": {},
     "output_type": "display_data"
    }
   ],
   "source": [
    "def show_image(image):\n",
    "     plt.imshow(image)\n",
    "\n",
    "@interact\n",
    "def plot_image(cat=file_df.category.unique(),num_images = range(1,10)):\n",
    "    tmp_df = file_df[file_df.category==cat].reset_index(drop=True)\n",
    "    print(f\"Total Images in {cat} : {tmp_df.shape[0]}\")\n",
    "    ncols = 4\n",
    "    nrows = int(num_images/ncols)+1\n",
    "    plt.figure(figsize=(20,15))\n",
    "    plt.subplots_adjust(wspace = 0.5,hspace=0.5)\n",
    "    for idx,row in tmp_df.iterrows():\n",
    "        if idx<num_images:\n",
    "            plt.subplot(nrows,ncols,idx+1)\n",
    "            image = plt.imread(row['location'])\n",
    "            show_image(image)\n",
    "            plt.title(f\"{cat}\")\n",
    "    "
   ]
  },
  {
   "cell_type": "markdown",
   "metadata": {
    "heading_collapsed": true
   },
   "source": [
    "## Train and Test Data Split"
   ]
  },
  {
   "cell_type": "code",
   "execution_count": 121,
   "metadata": {
    "ExecuteTime": {
     "end_time": "2020-12-14T17:18:49.106262Z",
     "start_time": "2020-12-14T17:18:49.101384Z"
    },
    "hidden": true
   },
   "outputs": [],
   "source": [
    "def create_dir(dir_path):\n",
    "    if not os.path.exists(dir_path):\n",
    "        os.mkdir(dir_path)\n",
    "\n",
    "def move_images(dir_path,df):\n",
    "    for i in df.category.unique():\n",
    "        create_dir(f\"{dir_path}{i}/\")\n",
    "        \n",
    "    for idx,row in df.iterrows():\n",
    "        img_name = row['location'].split(\"/\")[-1]\n",
    "        shutil.copy(row['location'],f\"{dir_path}{row['category']}/{img_name}\")"
   ]
  },
  {
   "cell_type": "code",
   "execution_count": 122,
   "metadata": {
    "ExecuteTime": {
     "end_time": "2020-12-14T17:18:50.027322Z",
     "start_time": "2020-12-14T17:18:49.881492Z"
    },
    "hidden": true
   },
   "outputs": [
    {
     "name": "stdout",
     "output_type": "stream",
     "text": [
      "#Training Images : 160\n",
      "#Test Images : 40\n",
      "\n"
     ]
    }
   ],
   "source": [
    "test_size = 0.2\n",
    "x_train,x_test,y_train,y_test = train_test_split(file_df,file_df['category'],stratify = file_df['category']\n",
    "                                                 ,random_state=4,test_size =test_size)\n",
    "\n",
    "print(f\"\"\"#Training Images : {x_train.shape[0]}\n",
    "#Test Images : {x_test.shape[0]}\n",
    "\"\"\")\n",
    "\n",
    "create_dir(f\"{root_dir}dataset/\")\n",
    "create_dir(f\"{root_dir}dataset/train/\")\n",
    "create_dir(f\"{root_dir}dataset/test/\")    \n",
    "move_images(f\"{root_dir}dataset/train/\",x_train)\n",
    "move_images(f\"{root_dir}dataset/test/\",x_test)"
   ]
  },
  {
   "cell_type": "markdown",
   "metadata": {
    "heading_collapsed": true
   },
   "source": [
    "## Creating Data Loaders"
   ]
  },
  {
   "cell_type": "code",
   "execution_count": 127,
   "metadata": {
    "ExecuteTime": {
     "end_time": "2020-12-14T17:26:47.051870Z",
     "start_time": "2020-12-14T17:26:47.045710Z"
    },
    "hidden": true
   },
   "outputs": [],
   "source": [
    "output_size = (224,224)\n",
    "mean = (0.485, 0.456, 0.406)\n",
    "std = (0.229, 0.224, 0.225)\n",
    "batch_size = 10"
   ]
  },
  {
   "cell_type": "code",
   "execution_count": 128,
   "metadata": {
    "ExecuteTime": {
     "end_time": "2020-12-14T17:26:49.066903Z",
     "start_time": "2020-12-14T17:26:49.056294Z"
    },
    "hidden": true
   },
   "outputs": [],
   "source": [
    "composed = transforms.Compose([transforms.Resize(output_size),\n",
    "                               transforms.ToTensor(),\n",
    "                               transforms.Normalize(mean, std)\n",
    "                              ])\n",
    "\n",
    "train_dataset = datasets.ImageFolder(f\"{root_dir}dataset/train\",transform=composed)\n",
    "test_dataset = datasets.ImageFolder(f\"{root_dir}dataset/test\",transform=composed)\n",
    "\n",
    "train_dataloader = DataLoader(train_dataset,batch_size = batch_size)\n",
    "test_dataloader =  DataLoader(test_dataset,batch_size = batch_size)"
   ]
  },
  {
   "cell_type": "markdown",
   "metadata": {
    "heading_collapsed": true
   },
   "source": [
    "## Model Training and Validation"
   ]
  },
  {
   "cell_type": "code",
   "execution_count": 204,
   "metadata": {
    "ExecuteTime": {
     "end_time": "2020-12-14T18:49:54.769303Z",
     "start_time": "2020-12-14T18:49:54.748749Z"
    },
    "hidden": true
   },
   "outputs": [],
   "source": [
    "def accuracy(actual,predicted):\n",
    "    actual = actual.detach().cpu().numpy()\n",
    "    predicted = np.argmax(predicted.detach().cpu().numpy(),axis=1)\n",
    "    \n",
    "    correct = (actual==predicted).sum()\n",
    "    return correct\n",
    "\n",
    "def train_valid_model(model,criterion,optimizer,num_epoch,train_dataloader,test_dataloader,model_name,save_model,device_id):\n",
    "    result_ls = []\n",
    "    for epoch in range(1,num_epochs+1):\n",
    "        strt = time.time()\n",
    "        train_loss, train_acc = 0,0\n",
    "        for train_inp,train_label in train_dataloader:\n",
    "            optimizer.zero_grad()\n",
    "\n",
    "            train_inp = train_inp.cuda(device_id)\n",
    "            train_label = train_label.cuda(device_id)\n",
    "\n",
    "            train_out = model(train_inp)\n",
    "            loss = criterion(train_out,train_label)\n",
    "            train_loss += loss.item()\n",
    "            train_acc += accuracy(train_label,train_out)\n",
    "\n",
    "            loss.backward()\n",
    "            optimizer.step()\n",
    "\n",
    "        test_loss, test_acc = 0,0\n",
    "        for test_inp,test_label in test_dataloader:\n",
    "            test_inp = test_inp.cuda(device_id)\n",
    "            test_label = test_label.cuda(device_id)\n",
    "\n",
    "            test_out = model(test_inp)\n",
    "            loss_ = criterion(test_out,test_label)\n",
    "            test_loss += loss_.item()\n",
    "            test_acc += accuracy(test_label,test_out)\n",
    "\n",
    "        train_loss,train_acc = train_loss/train_shape,train_acc/train_shape\n",
    "        test_loss, test_acc = test_loss/test_shape,test_acc/test_shape\n",
    "\n",
    "        end = time.time()\n",
    "        result_ls.append([epoch,train_loss,train_acc,test_loss, test_acc])\n",
    "        if epoch%print_epoch==0 and print_epoch>0:\n",
    "            print(f\"\"\"epoch:{epoch},train_loss:{round(train_loss*100,3)}%,train_accuracy:{round(train_acc*100,3)}%,test_loss:{round(test_loss*100,3)}%,test_accuracy:{round(test_acc*100,3)}%,time:{int(end-strt)}secs\"\"\")\n",
    "\n",
    "    results_df = pd.DataFrame(result_ls,columns =['epoch','train_loss','train_accuracy','test_loss','test_accuracy'])\n",
    "    results_df.to_csv(f\"{root_dir}model_summary/{model_name}.csv\",index=False)\n",
    "\n",
    "    if save_model:\n",
    "        torch.save(model.state_dict(),f\"{root_dir}models/{model_name}.pth\")\n"
   ]
  },
  {
   "cell_type": "markdown",
   "metadata": {
    "ExecuteTime": {
     "end_time": "2020-12-14T17:30:17.575186Z",
     "start_time": "2020-12-14T17:30:17.571550Z"
    },
    "heading_collapsed": true
   },
   "source": [
    "## Defining Model and run one at a time"
   ]
  },
  {
   "cell_type": "code",
   "execution_count": 205,
   "metadata": {
    "ExecuteTime": {
     "end_time": "2020-12-14T18:49:56.837756Z",
     "start_time": "2020-12-14T18:49:56.634799Z"
    },
    "hidden": true
   },
   "outputs": [],
   "source": [
    "if model_idx == 1:\n",
    "    model = models.resnet18()\n",
    "elif model_idx == 2:\n",
    "    model = models.alexnet()\n",
    "elif model_idx == 3:\n",
    "    model = models.vgg16()\n",
    "elif model_idx == 4:\n",
    "    model = models.squeezenet1_0()\n",
    "elif model_idx == 5:\n",
    "    model = models.densenet161()\n",
    "elif model_idx == 6:\n",
    "    model = models.inception_v3()\n",
    "elif model_idx == 7:\n",
    "    model = models.googlenet()\n",
    "elif model_idx == 8:\n",
    "    model = models.shufflenet_v2_x1_0()\n",
    "elif model_idx == 9:\n",
    "    model = models.mobilenet_v2()\n",
    "elif model_idx == 10:\n",
    "    model = models.resnext50_32x4d()\n",
    "elif model_idx == 11:\n",
    "    model = models.wide_resnet50_2()\n",
    "elif model_idx == 12:\n",
    "    model = models.mnasnet1_0()\n",
    "else :\n",
    "    print(\"Invalid index to select model\")"
   ]
  },
  {
   "cell_type": "code",
   "execution_count": 206,
   "metadata": {
    "ExecuteTime": {
     "end_time": "2020-12-14T18:49:58.200698Z",
     "start_time": "2020-12-14T18:49:58.197234Z"
    },
    "hidden": true
   },
   "outputs": [],
   "source": [
    "model_name_dict = {1:'resnet18',\n",
    "2:'alexnet',\n",
    "3:'vgg16',\n",
    "4:'squeezenet',\n",
    "5:'densenet',\n",
    "6:'inception',\n",
    "7:'googlenet',\n",
    "8:'shufflenet',\n",
    "9:'mobilenet',\n",
    "10:'resnext50_32x4d',\n",
    "11:'wide_resnet50_2',\n",
    "12:'mnasnet'}"
   ]
  },
  {
   "cell_type": "code",
   "execution_count": 207,
   "metadata": {
    "ExecuteTime": {
     "end_time": "2020-12-14T18:49:59.508171Z",
     "start_time": "2020-12-14T18:49:59.502149Z"
    },
    "hidden": true
   },
   "outputs": [
    {
     "name": "stdout",
     "output_type": "stream",
     "text": [
      "Number of Classes : 4\n",
      "Available Device : cuda\n",
      "resnet18\n"
     ]
    }
   ],
   "source": [
    "num_classes = len(train_dataloader.dataset.classes)\n",
    "print(f\"Number of Classes : {num_classes}\")\n",
    "\n",
    "device = torch.device(\"cuda\" if torch.cuda.is_available() else \"cpu\")\n",
    "print(f\"Available Device : {device}\")\n",
    "\n",
    "train_shape = x_train.shape[0]\n",
    "test_shape = x_test.shape[0]\n",
    "save_model = True\n",
    "\n",
    "create_dir(f\"{root_dir}model_summary/\")\n",
    "create_dir(f\"{root_dir}models/\")\n",
    "\n",
    "learning_rate = 0.001\n",
    "num_epochs = 4\n",
    "device_id = 1\n",
    "print_epoch  = 2 ## assign -1 if you don't want to print intermediate results\n",
    "model_idx = 1\n",
    "model_name = model_name_dict[model_idx]\n",
    "print(f\"Model Name : {model_name}\")"
   ]
  },
  {
   "cell_type": "code",
   "execution_count": 209,
   "metadata": {
    "ExecuteTime": {
     "end_time": "2020-12-14T18:50:32.135014Z",
     "start_time": "2020-12-14T18:50:08.203439Z"
    },
    "hidden": true
   },
   "outputs": [
    {
     "name": "stdout",
     "output_type": "stream",
     "text": [
      "epoch:2,train_loss:18.537%,train_accuracy:7.5%,test_loss:16.975%,test_accuracy:25.0%,time:5secs\n",
      "epoch:4,train_loss:17.726%,train_accuracy:0.625%,test_loss:14.489%,test_accuracy:27.5%,time:6secs\n"
     ]
    }
   ],
   "source": [
    "\n",
    "num_feat = model.fc.in_features\n",
    "model.fc = nn.Linear(num_feat,num_classes) ## make change in accordance with model\n",
    "model = model.cuda(device_id)\n",
    "criterion = nn.CrossEntropyLoss()\n",
    "optimizer = optim.Adam(model.parameters(),lr =learning_rate)\n",
    "\n",
    "train_valid_model(model,criterion,optimizer,num_epochs,train_dataloader,test_dataloader,model_name,save_model,device_id)"
   ]
  },
  {
   "cell_type": "code",
   "execution_count": null,
   "metadata": {
    "hidden": true
   },
   "outputs": [],
   "source": []
  },
  {
   "cell_type": "markdown",
   "metadata": {},
   "source": [
    "## Model Comparison Summary"
   ]
  },
  {
   "cell_type": "code",
   "execution_count": 244,
   "metadata": {
    "ExecuteTime": {
     "end_time": "2020-12-14T19:50:42.036274Z",
     "start_time": "2020-12-14T19:50:42.004923Z"
    }
   },
   "outputs": [],
   "source": [
    "master_summary =  pd.DataFrame()\n",
    "for summary_file in glob.glob(f\"{root_dir}model_summary/*.csv\"):\n",
    "    tmp_df  = pd.read_csv(summary_file)\n",
    "    tmp_df['model_name'] = summary_file.split(\"/\")[-1].replace(\".csv\",\"\")\n",
    "    master_summary = master_summary.append(tmp_df)\n",
    "last_epoch_summary = pd.merge(master_summary.groupby(['model_name'],as_index=False).epoch.max(),master_summary,on=['model_name','epoch'])"
   ]
  },
  {
   "cell_type": "code",
   "execution_count": 245,
   "metadata": {
    "ExecuteTime": {
     "end_time": "2020-12-14T19:50:43.228608Z",
     "start_time": "2020-12-14T19:50:43.214603Z"
    }
   },
   "outputs": [],
   "source": [
    "last_epoch_summary.to_csv(f\"{root_dir}model_comparison.csv\")"
   ]
  },
  {
   "cell_type": "code",
   "execution_count": 246,
   "metadata": {
    "ExecuteTime": {
     "end_time": "2020-12-14T19:50:49.422052Z",
     "start_time": "2020-12-14T19:50:49.403569Z"
    }
   },
   "outputs": [
    {
     "data": {
      "text/html": [
       "<div>\n",
       "<style scoped>\n",
       "    .dataframe tbody tr th:only-of-type {\n",
       "        vertical-align: middle;\n",
       "    }\n",
       "\n",
       "    .dataframe tbody tr th {\n",
       "        vertical-align: top;\n",
       "    }\n",
       "\n",
       "    .dataframe thead th {\n",
       "        text-align: right;\n",
       "    }\n",
       "</style>\n",
       "<table border=\"1\" class=\"dataframe\">\n",
       "  <thead>\n",
       "    <tr style=\"text-align: right;\">\n",
       "      <th></th>\n",
       "      <th>model_name</th>\n",
       "      <th>epoch</th>\n",
       "      <th>train_loss</th>\n",
       "      <th>train_accuracy</th>\n",
       "      <th>test_loss</th>\n",
       "      <th>test_accuracy</th>\n",
       "    </tr>\n",
       "  </thead>\n",
       "  <tbody>\n",
       "    <tr>\n",
       "      <th>0</th>\n",
       "      <td>alexnet</td>\n",
       "      <td>4</td>\n",
       "      <td>0.194379</td>\n",
       "      <td>0.03125</td>\n",
       "      <td>0.143528</td>\n",
       "      <td>0.250</td>\n",
       "    </tr>\n",
       "    <tr>\n",
       "      <th>1</th>\n",
       "      <td>resnet18</td>\n",
       "      <td>4</td>\n",
       "      <td>0.163787</td>\n",
       "      <td>0.00000</td>\n",
       "      <td>0.137917</td>\n",
       "      <td>0.225</td>\n",
       "    </tr>\n",
       "    <tr>\n",
       "      <th>2</th>\n",
       "      <td>resnet50</td>\n",
       "      <td>4</td>\n",
       "      <td>0.150584</td>\n",
       "      <td>0.21875</td>\n",
       "      <td>0.139536</td>\n",
       "      <td>0.250</td>\n",
       "    </tr>\n",
       "  </tbody>\n",
       "</table>\n",
       "</div>"
      ],
      "text/plain": [
       "  model_name  epoch  train_loss  train_accuracy  test_loss  test_accuracy\n",
       "0    alexnet      4    0.194379         0.03125   0.143528          0.250\n",
       "1   resnet18      4    0.163787         0.00000   0.137917          0.225\n",
       "2   resnet50      4    0.150584         0.21875   0.139536          0.250"
      ]
     },
     "execution_count": 246,
     "metadata": {},
     "output_type": "execute_result"
    }
   ],
   "source": [
    "last_epoch_summary"
   ]
  },
  {
   "cell_type": "code",
   "execution_count": null,
   "metadata": {},
   "outputs": [],
   "source": []
  },
  {
   "cell_type": "code",
   "execution_count": null,
   "metadata": {},
   "outputs": [],
   "source": []
  }
 ],
 "metadata": {
  "kernelspec": {
   "display_name": "Python 3",
   "language": "python",
   "name": "python3"
  },
  "language_info": {
   "codemirror_mode": {
    "name": "ipython",
    "version": 3
   },
   "file_extension": ".py",
   "mimetype": "text/x-python",
   "name": "python",
   "nbconvert_exporter": "python",
   "pygments_lexer": "ipython3",
   "version": "3.7.5"
  },
  "latex_envs": {
   "LaTeX_envs_menu_present": true,
   "autoclose": false,
   "autocomplete": true,
   "bibliofile": "biblio.bib",
   "cite_by": "apalike",
   "current_citInitial": 1,
   "eqLabelWithNumbers": true,
   "eqNumInitial": 1,
   "hotkeys": {
    "equation": "Ctrl-E",
    "itemize": "Ctrl-I"
   },
   "labels_anchors": false,
   "latex_user_defs": false,
   "report_style_numbering": false,
   "user_envs_cfg": false
  },
  "toc": {
   "base_numbering": 1,
   "nav_menu": {},
   "number_sections": true,
   "sideBar": true,
   "skip_h1_title": false,
   "title_cell": "Table of Contents",
   "title_sidebar": "Contents",
   "toc_cell": false,
   "toc_position": {},
   "toc_section_display": true,
   "toc_window_display": true
  },
  "varInspector": {
   "cols": {
    "lenName": 16,
    "lenType": 16,
    "lenVar": 40
   },
   "kernels_config": {
    "python": {
     "delete_cmd_postfix": "",
     "delete_cmd_prefix": "del ",
     "library": "var_list.py",
     "varRefreshCmd": "print(var_dic_list())"
    },
    "r": {
     "delete_cmd_postfix": ") ",
     "delete_cmd_prefix": "rm(",
     "library": "var_list.r",
     "varRefreshCmd": "cat(var_dic_list()) "
    }
   },
   "types_to_exclude": [
    "module",
    "function",
    "builtin_function_or_method",
    "instance",
    "_Feature"
   ],
   "window_display": false
  }
 },
 "nbformat": 4,
 "nbformat_minor": 4
}
